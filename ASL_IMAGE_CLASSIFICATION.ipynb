{
  "nbformat": 4,
  "nbformat_minor": 0,
  "metadata": {
    "colab": {
      "name": "folio3Assignment.ipynb",
      "provenance": [],
      "collapsed_sections": [],
      "machine_shape": "hm"
    },
    "kernelspec": {
      "name": "python3",
      "display_name": "Python 3"
    },
    "language_info": {
      "name": "python"
    },
    "accelerator": "GPU",
    "gpuClass": "standard"
  },
  "cells": [
    {
      "cell_type": "markdown",
      "source": [
        "## PART 1"
      ],
      "metadata": {
        "id": "GO8KPiaVj1x4"
      }
    },
    {
      "cell_type": "code",
      "execution_count": null,
      "metadata": {
        "id": "IZn2HGdoZPOM"
      },
      "outputs": [],
      "source": [
        "import numpy as np\n",
        "import pandas as pd\n",
        "from google.colab import drive\n",
        "import matplotlib.pyplot as plt\n",
        "import tensorflow as tf\n",
        "from tensorflow.keras.models import Sequential \n",
        "from tensorflow.keras.callbacks import EarlyStopping\n",
        "from tensorflow.keras.preprocessing.image import ImageDataGenerator\n",
        "from tensorflow.keras.layers import Conv2D, MaxPooling2D, Flatten, Dense, Dropout,BatchNormalization"
      ]
    },
    {
      "cell_type": "code",
      "source": [
        "drive.mount('/content/drive',force_remount=True)"
      ],
      "metadata": {
        "colab": {
          "base_uri": "https://localhost:8080/"
        },
        "id": "i_d-qazYaV2Q",
        "outputId": "8fab2715-d0c2-4655-c558-943c80e49f2f"
      },
      "execution_count": null,
      "outputs": [
        {
          "output_type": "stream",
          "name": "stdout",
          "text": [
            "Mounted at /content/drive\n"
          ]
        }
      ]
    },
    {
      "cell_type": "code",
      "source": [
        ""
      ],
      "metadata": {
        "id": "fwloKH_XAL-x"
      },
      "execution_count": null,
      "outputs": []
    },
    {
      "cell_type": "code",
      "source": [
        "!unzip \"/content/drive/MyDrive/ASL_DATASET.zip\""
      ],
      "metadata": {
        "id": "lzc4Tx6garwX"
      },
      "execution_count": null,
      "outputs": []
    },
    {
      "cell_type": "code",
      "source": [
        "train_datagen = ImageDataGenerator(\n",
        "    rescale = 1.0/255,\n",
        "    shear_range = 0.2,\n",
        "    zoom_range = 0.2\n",
        ")\n",
        "test_datagen = ImageDataGenerator(\n",
        "    rescale = 1.0/255,\n",
        ")\n",
        "\n"
      ],
      "metadata": {
        "id": "S-3cO6Imb_gl"
      },
      "execution_count": null,
      "outputs": []
    },
    {
      "cell_type": "code",
      "source": [
        "train_generator = train_datagen.flow_from_directory(\n",
        "    'asl_alphabet_train',\n",
        "    target_size = (200,200),   \n",
        "    batch_size = 32        \n",
        ")\n",
        "test_generator = test_datagen.flow_from_directory(\n",
        "    'asl_alphabet_test',\n",
        "    target_size = (200,200),\n",
        "    batch_size = 32,\n",
        "    shuffle = False\n",
        ")"
      ],
      "metadata": {
        "colab": {
          "base_uri": "https://localhost:8080/"
        },
        "id": "1PhF120Z2CSb",
        "outputId": "54e6a3b5-4881-43d4-fba5-6c16ca6aa7f3"
      },
      "execution_count": null,
      "outputs": [
        {
          "output_type": "stream",
          "name": "stdout",
          "text": [
            "Found 84100 images belonging to 29 classes.\n",
            "Found 2900 images belonging to 29 classes.\n"
          ]
        }
      ]
    },
    {
      "cell_type": "code",
      "source": [
        "X, y  = train_generator.next()\n",
        "X.shape\n",
        "y.shape"
      ],
      "metadata": {
        "colab": {
          "base_uri": "https://localhost:8080/"
        },
        "id": "hIEWbLep3Xpl",
        "outputId": "f89bcf80-54a0-465d-d9b8-e2ecd0364e2e"
      },
      "execution_count": null,
      "outputs": [
        {
          "output_type": "execute_result",
          "data": {
            "text/plain": [
              "(32, 29)"
            ]
          },
          "metadata": {},
          "execution_count": 10
        }
      ]
    },
    {
      "cell_type": "code",
      "source": [
        "plt.imshow(X[5])\n",
        "# y"
      ],
      "metadata": {
        "colab": {
          "base_uri": "https://localhost:8080/",
          "height": 286
        },
        "id": "K7M5_62e4CO2",
        "outputId": "6e5ca88d-db39-4729-e127-5d5e21fb7291"
      },
      "execution_count": null,
      "outputs": [
        {
          "output_type": "execute_result",
          "data": {
            "text/plain": [
              "<matplotlib.image.AxesImage at 0x7fe82fddbd50>"
            ]
          },
          "metadata": {},
          "execution_count": 11
        },
        {
          "output_type": "display_data",
          "data": {
            "text/plain": [
              "<Figure size 432x288 with 1 Axes>"
            ],
            "image/png": "[encoded data removed]"
          },
          "metadata": {
            "needs_background": "light"
          }
        }
      ]
    },
    {
      "cell_type": "code",
      "source": [
        "train_generator.reset()"
      ],
      "metadata": {
        "id": "XEAEbbjOdiFp"
      },
      "execution_count": null,
      "outputs": []
    },
    {
      "cell_type": "code",
      "source": [
        "model = Sequential()\n",
        "model.add(Conv2D(64,kernel_size=(7,7),padding='same',activation='relu',input_shape=(200,200,3)))\n",
        "model.add(BatchNormalization())\n",
        "model.add(Conv2D(64,(7,7),padding='same',activation='relu'))\n",
        "model.add(BatchNormalization())\n",
        "model.add(MaxPooling2D(pool_size=(2,2)))\n",
        "model.add(Dropout(0.4))\n",
        "\n",
        "model.add(Flatten())\n",
        "model.add(Dense(64, activation='relu'))\n",
        "model.add(BatchNormalization())\n",
        "model.add(Dropout(0.5))\n",
        "model.add(Dense(29, activation='softmax'))\n"
      ],
      "metadata": {
        "id": "esjT2Wp_De2Q"
      },
      "execution_count": null,
      "outputs": []
    },
    {
      "cell_type": "code",
      "source": [
        "model.summary()"
      ],
      "metadata": {
        "colab": {
          "base_uri": "https://localhost:8080/"
        },
        "id": "o9cmSo6obNAf",
        "outputId": "0d6f5fe3-a648-42f2-d7f1-f233c5055ca4"
      },
      "execution_count": null,
      "outputs": [
        {
          "output_type": "stream",
          "name": "stdout",
          "text": [
            "Model: \"sequential\"\n",
            "_________________________________________________________________\n",
            " Layer (type)                Output Shape              Param #   \n",
            "=================================================================\n",
            " conv2d (Conv2D)             (None, 200, 200, 64)      9472      \n",
            "                                                                 \n",
            " batch_normalization (BatchN  (None, 200, 200, 64)     256       \n",
            " ormalization)                                                   \n",
            "                                                                 \n",
            " conv2d_1 (Conv2D)           (None, 200, 200, 64)      200768    \n",
            "                                                                 \n",
            " batch_normalization_1 (Batc  (None, 200, 200, 64)     256       \n",
            " hNormalization)                                                 \n",
            "                                                                 \n",
            " max_pooling2d (MaxPooling2D  (None, 100, 100, 64)     0         \n",
            " )                                                               \n",
            "                                                                 \n",
            " dropout (Dropout)           (None, 100, 100, 64)      0         \n",
            "                                                                 \n",
            " flatten (Flatten)           (None, 640000)            0         \n",
            "                                                                 \n",
            " dense (Dense)               (None, 64)                40960064  \n",
            "                                                                 \n",
            " batch_normalization_2 (Batc  (None, 64)               256       \n",
            " hNormalization)                                                 \n",
            "                                                                 \n",
            " dropout_1 (Dropout)         (None, 64)                0         \n",
            "                                                                 \n",
            " dense_1 (Dense)             (None, 29)                1885      \n",
            "                                                                 \n",
            "=================================================================\n",
            "Total params: 41,172,957\n",
            "Trainable params: 41,172,573\n",
            "Non-trainable params: 384\n",
            "_________________________________________________________________\n"
          ]
        }
      ]
    },
    {
      "cell_type": "code",
      "source": [
        "model.compile(optimizer='adam', loss=tf.keras.losses.categorical_crossentropy, metrics=['accuracy'])"
      ],
      "metadata": {
        "id": "-588Uw1CeuhR"
      },
      "execution_count": null,
      "outputs": []
    },
    {
      "cell_type": "code",
      "source": [
        "# epochs = 5  \n",
        "# for e in range(epochs):\n",
        "#     print('Epoch', e)\n",
        "#     batches = 0\n",
        "#     for x_batch, y_batch in train_generator:\n",
        "#         model.fit(x_batch, y_batch)\n",
        "#         batches += 1\n",
        "#         if batches >= 84100 / 32:  # where 84100 is the len(X_train)\n",
        "#             # we need to break the loop by hand because\n",
        "#             # the generator loops indefinitely\n",
        "#             break\n"
      ],
      "metadata": {
        "id": "WNaYL4rcbgis"
      },
      "execution_count": null,
      "outputs": []
    },
    {
      "cell_type": "code",
      "source": [
        "# history = model.fit(train_generator, epochs=5)"
      ],
      "metadata": {
        "id": "ok6OKFcMdtMl"
      },
      "execution_count": null,
      "outputs": []
    },
    {
      "cell_type": "code",
      "source": [
        "model.save('/content/drive/MyDrive/model_trained.h5')"
      ],
      "metadata": {
        "id": "ZlRCFbafyUcr"
      },
      "execution_count": null,
      "outputs": []
    },
    {
      "cell_type": "code",
      "source": [
        "# import pickle\n",
        "# pickle.dump(model,open('/content/drive/MyDrive/model_trained.sav','wb'))"
      ],
      "metadata": {
        "id": "cZNuRTkuIYMY"
      },
      "execution_count": null,
      "outputs": []
    },
    {
      "cell_type": "code",
      "source": [
        "es = EarlyStopping(monitor='val_loss', mode='min', verbose=1, patience=10)\n",
        "history = model.fit(train_generator, epochs=10,verbose=1, batch_size=64, validation_data=(test_generator), callbacks=[es])"
      ],
      "metadata": {
        "colab": {
          "base_uri": "https://localhost:8080/"
        },
        "id": "Bfc2ZPjj_1qH",
        "outputId": "11b25b39-e2fb-442b-b8b7-3c8d7b79f182"
      },
      "execution_count": null,
      "outputs": [
        {
          "output_type": "stream",
          "name": "stdout",
          "text": [
            "Epoch 1/10\n",
            "2629/2629 [==============================] - 707s 269ms/step - loss: 2.1556 - accuracy: 0.3673 - val_loss: 1.6675 - val_accuracy: 0.4503\n",
            "Epoch 2/10\n",
            "2629/2629 [==============================] - 693s 263ms/step - loss: 1.0435 - accuracy: 0.6629 - val_loss: 0.6689 - val_accuracy: 0.7579\n",
            "Epoch 3/10\n",
            "2629/2629 [==============================] - 694s 264ms/step - loss: 0.5860 - accuracy: 0.8054 - val_loss: 1.2179 - val_accuracy: 0.6772\n",
            "Epoch 4/10\n",
            "2629/2629 [==============================] - 693s 264ms/step - loss: 0.4092 - accuracy: 0.8634 - val_loss: 0.4048 - val_accuracy: 0.8745\n",
            "Epoch 5/10\n",
            "2629/2629 [==============================] - 692s 263ms/step - loss: 0.3207 - accuracy: 0.8916 - val_loss: 0.3329 - val_accuracy: 0.8855\n",
            "Epoch 6/10\n",
            "2629/2629 [==============================] - 690s 262ms/step - loss: 0.2625 - accuracy: 0.9113 - val_loss: 0.2218 - val_accuracy: 0.9245\n",
            "Epoch 7/10\n",
            "2629/2629 [==============================] - 690s 262ms/step - loss: 0.2246 - accuracy: 0.9252 - val_loss: 0.1810 - val_accuracy: 0.9379\n",
            "Epoch 8/10\n",
            "2629/2629 [==============================] - 691s 263ms/step - loss: 0.1971 - accuracy: 0.9335 - val_loss: 0.0613 - val_accuracy: 0.9803\n",
            "Epoch 9/10\n",
            "2629/2629 [==============================] - 689s 262ms/step - loss: 0.1742 - accuracy: 0.9413 - val_loss: 0.1628 - val_accuracy: 0.9459\n",
            "Epoch 10/10\n",
            "2629/2629 [==============================] - 694s 264ms/step - loss: 0.1616 - accuracy: 0.9456 - val_loss: 0.0599 - val_accuracy: 0.9821\n"
          ]
        }
      ]
    },
    {
      "cell_type": "code",
      "source": [
        "model.save('/content/drive/MyDrive/model_trained_v2.h5')"
      ],
      "metadata": {
        "id": "uZK0ffiHaDqh"
      },
      "execution_count": null,
      "outputs": []
    },
    {
      "cell_type": "code",
      "source": [
        "from tensorflow import keras\n",
        "aa = keras.models.load_model('/content/drive/MyDrive/model_trained_v2.h5')\n",
        "# history.history"
      ],
      "metadata": {
        "id": "46YbeFWlaXRX"
      },
      "execution_count": null,
      "outputs": []
    },
    {
      "cell_type": "code",
      "source": [
        "# history = model.fit(train_generator, epochs=10,verbose=1, batch_size=32, validation_data=(test_generator), callbacks=[es])\n"
      ],
      "metadata": {
        "id": "BQyNuHCJeONW"
      },
      "execution_count": null,
      "outputs": []
    },
    {
      "cell_type": "code",
      "source": [
        "score = model.evaluate(test_generator)"
      ],
      "metadata": {
        "colab": {
          "base_uri": "https://localhost:8080/"
        },
        "id": "dX5hAAIlInl-",
        "outputId": "250f17aa-f1c9-43ce-e80d-bf4d6e14a83d"
      },
      "execution_count": null,
      "outputs": [
        {
          "output_type": "stream",
          "name": "stdout",
          "text": [
            "91/91 [==============================] - 5s 55ms/step - loss: 0.0599 - accuracy: 0.9821\n"
          ]
        }
      ]
    },
    {
      "cell_type": "markdown",
      "source": [
        "This accuracy coming higher than training as I accidentally used this test set as the validation set...."
      ],
      "metadata": {
        "id": "5xpfIJoPoHX9"
      }
    },
    {
      "cell_type": "code",
      "source": [
        "plt.figure(figsize=[6,4])\n",
        "plt.plot(history.history['loss'], 'black', linewidth=2.0)\n",
        "plt.plot(history.history['val_loss'], 'green', linewidth=2.0)\n",
        "plt.legend(['Training Loss', 'Validation Loss'], fontsize=14)\n",
        "plt.xlabel('Epochs', fontsize=10)\n",
        "plt.ylabel('Loss', fontsize=10)\n",
        "plt.title('Loss Curves', fontsize=12)\n",
        "model.history.on_batch_begin(1)\n",
        "# history.history"
      ],
      "metadata": {
        "colab": {
          "base_uri": "https://localhost:8080/",
          "height": 295
        },
        "id": "6QzBnPrDKant",
        "outputId": "376a7dc6-07ac-4cd1-9f0f-eec12ddf5dcd"
      },
      "execution_count": null,
      "outputs": [
        {
          "output_type": "display_data",
          "data": {
            "text/plain": [
              "<Figure size 432x288 with 1 Axes>"
            ],
            "image/png": "[encoded data removed]"
          },
          "metadata": {
            "needs_background": "light"
          }
        }
      ]
    },
    {
      "cell_type": "code",
      "source": [
        "test_steps_per_epoch = np.math.ceil(test_generator.samples / test_generator.batch_size)\n",
        "\n",
        "predictions = model.predict_generator(test_generator, steps=test_steps_per_epoch)\n",
        "# Get most likely class\n",
        "predicted_classes = np.argmax(predictions, axis=1)\n",
        "true_classes = test_generator.classes\n",
        "class_labels = list(test_generator.class_indices.keys()) "
      ],
      "metadata": {
        "colab": {
          "base_uri": "https://localhost:8080/"
        },
        "id": "iE-uN1jTX9T-",
        "outputId": "813d2aef-9e71-4b52-9246-04b7b23ec9c5"
      },
      "execution_count": null,
      "outputs": [
        {
          "output_type": "stream",
          "name": "stderr",
          "text": [
            "/usr/local/lib/python3.7/dist-packages/ipykernel_launcher.py:3: UserWarning: `Model.predict_generator` is deprecated and will be removed in a future version. Please use `Model.predict`, which supports generators.\n",
            "  This is separate from the ipykernel package so we can avoid doing imports until\n"
          ]
        }
      ]
    },
    {
      "cell_type": "code",
      "source": [
        "from sklearn import metrics\n",
        "report = metrics.classification_report(true_classes, predicted_classes, target_names=class_labels)\n",
        "print(report) "
      ],
      "metadata": {
        "id": "UZaaINeWbVLy",
        "colab": {
          "base_uri": "https://localhost:8080/"
        },
        "outputId": "2773c935-9c3e-4fd8-dae4-fa376e6fc008"
      },
      "execution_count": null,
      "outputs": [
        {
          "output_type": "stream",
          "name": "stdout",
          "text": [
            "              precision    recall  f1-score   support\n",
            "\n",
            "           A       1.00      0.92      0.96       100\n",
            "           B       1.00      0.98      0.99       100\n",
            "           C       1.00      1.00      1.00       100\n",
            "           D       0.98      1.00      0.99       100\n",
            "           E       1.00      0.94      0.97       100\n",
            "           F       1.00      0.99      0.99       100\n",
            "           G       0.96      0.99      0.98       100\n",
            "           H       0.99      0.98      0.98       100\n",
            "           I       1.00      0.98      0.99       100\n",
            "           J       1.00      0.98      0.99       100\n",
            "           K       0.98      1.00      0.99       100\n",
            "           L       1.00      0.98      0.99       100\n",
            "           M       0.94      1.00      0.97       100\n",
            "           N       0.99      1.00      1.00       100\n",
            "           O       1.00      1.00      1.00       100\n",
            "           P       0.99      1.00      1.00       100\n",
            "           Q       1.00      0.99      0.99       100\n",
            "           R       0.93      0.96      0.95       100\n",
            "           S       1.00      1.00      1.00       100\n",
            "           T       0.92      0.97      0.95       100\n",
            "           U       0.92      0.98      0.95       100\n",
            "           V       0.98      0.93      0.95       100\n",
            "           W       0.99      0.97      0.98       100\n",
            "           X       0.98      0.99      0.99       100\n",
            "           Y       1.00      0.98      0.99       100\n",
            "           Z       0.97      1.00      0.99       100\n",
            "         del       0.97      1.00      0.99       100\n",
            "     nothing       1.00      1.00      1.00       100\n",
            "       space       1.00      0.97      0.98       100\n",
            "\n",
            "    accuracy                           0.98      2900\n",
            "   macro avg       0.98      0.98      0.98      2900\n",
            "weighted avg       0.98      0.98      0.98      2900\n",
            "\n"
          ]
        }
      ]
    },
    {
      "cell_type": "code",
      "source": [
        "from sklearn.metrics import multilabel_confusion_matrix\n",
        "import seaborn as sn\n",
        "mcm = multilabel_confusion_matrix(true_classes, predicted_classes)\n",
        "print(mcm)"
      ],
      "metadata": {
        "colab": {
          "base_uri": "https://localhost:8080/"
        },
        "id": "ovu6c0zNZhbk",
        "outputId": "a56c55ea-d100-416e-e30e-8c0d48378443"
      },
      "execution_count": null,
      "outputs": [
        {
          "output_type": "stream",
          "name": "stdout",
          "text": [
            "[[[2800    0]\n",
            "  [   8   92]]\n",
            "\n",
            " [[2800    0]\n",
            "  [   2   98]]\n",
            "\n",
            " [[2800    0]\n",
            "  [   0  100]]\n",
            "\n",
            " [[2798    2]\n",
            "  [   0  100]]\n",
            "\n",
            " [[2800    0]\n",
            "  [   6   94]]\n",
            "\n",
            " [[2800    0]\n",
            "  [   1   99]]\n",
            "\n",
            " [[2796    4]\n",
            "  [   1   99]]\n",
            "\n",
            " [[2799    1]\n",
            "  [   2   98]]\n",
            "\n",
            " [[2800    0]\n",
            "  [   2   98]]\n",
            "\n",
            " [[2800    0]\n",
            "  [   2   98]]\n",
            "\n",
            " [[2798    2]\n",
            "  [   0  100]]\n",
            "\n",
            " [[2800    0]\n",
            "  [   2   98]]\n",
            "\n",
            " [[2794    6]\n",
            "  [   0  100]]\n",
            "\n",
            " [[2799    1]\n",
            "  [   0  100]]\n",
            "\n",
            " [[2800    0]\n",
            "  [   0  100]]\n",
            "\n",
            " [[2799    1]\n",
            "  [   0  100]]\n",
            "\n",
            " [[2800    0]\n",
            "  [   1   99]]\n",
            "\n",
            " [[2793    7]\n",
            "  [   4   96]]\n",
            "\n",
            " [[2800    0]\n",
            "  [   0  100]]\n",
            "\n",
            " [[2792    8]\n",
            "  [   3   97]]\n",
            "\n",
            " [[2791    9]\n",
            "  [   2   98]]\n",
            "\n",
            " [[2798    2]\n",
            "  [   7   93]]\n",
            "\n",
            " [[2799    1]\n",
            "  [   3   97]]\n",
            "\n",
            " [[2798    2]\n",
            "  [   1   99]]\n",
            "\n",
            " [[2800    0]\n",
            "  [   2   98]]\n",
            "\n",
            " [[2797    3]\n",
            "  [   0  100]]\n",
            "\n",
            " [[2797    3]\n",
            "  [   0  100]]\n",
            "\n",
            " [[2800    0]\n",
            "  [   0  100]]\n",
            "\n",
            " [[2800    0]\n",
            "  [   3   97]]]\n"
          ]
        }
      ]
    },
    {
      "cell_type": "code",
      "source": [
        ""
      ],
      "metadata": {
        "id": "625yAcjLjvR5"
      },
      "execution_count": null,
      "outputs": []
    },
    {
      "cell_type": "markdown",
      "source": [
        "## PART 2"
      ],
      "metadata": {
        "id": "zhuTE1BGjwqk"
      }
    },
    {
      "cell_type": "code",
      "source": [
        "import tensorflow_hub as hub"
      ],
      "metadata": {
        "id": "mJsx5C8ZsLTM"
      },
      "execution_count": null,
      "outputs": []
    },
    {
      "cell_type": "code",
      "source": [
        "m = tf.keras.Sequential(\n",
        "    [hub.KerasLayer(\"https://tfhub.dev/google/imagenet/efficientnet_v2_imagenet1k_b2/classification/2\",trainable = False),\n",
        "     tf.keras.layers.Dense(len(class_labels), activation='softmax')])\n",
        "m.build([None, 200, 200, 3])\n"
      ],
      "metadata": {
        "id": "YBTSGFj7jz7O"
      },
      "execution_count": null,
      "outputs": []
    },
    {
      "cell_type": "code",
      "source": [
        "m.summary()"
      ],
      "metadata": {
        "colab": {
          "base_uri": "https://localhost:8080/"
        },
        "id": "jcyZsYRxs6eL",
        "outputId": "0be9b2bc-26d9-4aed-e88d-0d75d6fd37e7"
      },
      "execution_count": null,
      "outputs": [
        {
          "output_type": "stream",
          "name": "stdout",
          "text": [
            "Model: \"sequential_1\"\n",
            "_________________________________________________________________\n",
            " Layer (type)                Output Shape              Param #   \n",
            "=================================================================\n",
            " keras_layer (KerasLayer)    (None, 1000)              10178374  \n",
            "                                                                 \n",
            " dense_2 (Dense)             (None, 29)                29029     \n",
            "                                                                 \n",
            "=================================================================\n",
            "Total params: 10,207,403\n",
            "Trainable params: 29,029\n",
            "Non-trainable params: 10,178,374\n",
            "_________________________________________________________________\n"
          ]
        }
      ]
    },
    {
      "cell_type": "code",
      "source": [
        "m.compile(optimizer='adam', loss=tf.keras.losses.categorical_crossentropy, metrics=['accuracy'])\n"
      ],
      "metadata": {
        "id": "_INMcE9MtBYs"
      },
      "execution_count": null,
      "outputs": []
    },
    {
      "cell_type": "code",
      "source": [
        "checkpoint_filepath = 'efficientnet_v2.h5'\n",
        "mcp = tf.keras.callbacks.ModelCheckpoint(\n",
        "    checkpoint_filepath,\n",
        "    save_weights_only=True,\n",
        "    monitor='val_accuracy',\n",
        "    mode='max',\n",
        "    save_best_only=True)"
      ],
      "metadata": {
        "id": "9XgG9SButFHi"
      },
      "execution_count": null,
      "outputs": []
    },
    {
      "cell_type": "code",
      "source": [
        "history = m.fit(train_generator, epochs=10, verbose=1, validation_data = test_generator,callbacks=[es,mcp])"
      ],
      "metadata": {
        "colab": {
          "base_uri": "https://localhost:8080/"
        },
        "id": "hZhptMTUtkMY",
        "outputId": "638c6c19-e73e-4522-b3e4-ffbb194d6adb"
      },
      "execution_count": null,
      "outputs": [
        {
          "output_type": "stream",
          "name": "stdout",
          "text": [
            "Epoch 1/10\n",
            "2629/2629 [==============================] - 700s 263ms/step - loss: 0.4087 - accuracy: 0.8887 - val_loss: 0.2422 - val_accuracy: 0.9252\n",
            "Epoch 2/10\n",
            "2629/2629 [==============================] - 691s 263ms/step - loss: 0.1435 - accuracy: 0.9572 - val_loss: 0.1382 - val_accuracy: 0.9569\n",
            "Epoch 3/10\n",
            "2629/2629 [==============================] - 696s 265ms/step - loss: 0.1077 - accuracy: 0.9665 - val_loss: 0.1004 - val_accuracy: 0.9683\n",
            "Epoch 4/10\n",
            "2629/2629 [==============================] - 686s 261ms/step - loss: 0.0873 - accuracy: 0.9713 - val_loss: 0.1084 - val_accuracy: 0.9600\n",
            "Epoch 5/10\n",
            "2629/2629 [==============================] - 687s 261ms/step - loss: 0.0770 - accuracy: 0.9752 - val_loss: 0.1260 - val_accuracy: 0.9555\n",
            "Epoch 6/10\n",
            "2629/2629 [==============================] - 685s 261ms/step - loss: 0.0689 - accuracy: 0.9771 - val_loss: 0.0805 - val_accuracy: 0.9755\n",
            "Epoch 7/10\n",
            "2629/2629 [==============================] - 685s 261ms/step - loss: 0.0646 - accuracy: 0.9792 - val_loss: 0.0716 - val_accuracy: 0.9776\n",
            "Epoch 8/10\n",
            "2629/2629 [==============================] - 687s 261ms/step - loss: 0.0583 - accuracy: 0.9804 - val_loss: 0.0610 - val_accuracy: 0.9817\n",
            "Epoch 9/10\n",
            "2629/2629 [==============================] - 687s 261ms/step - loss: 0.0563 - accuracy: 0.9805 - val_loss: 0.1152 - val_accuracy: 0.9576\n",
            "Epoch 10/10\n",
            "2629/2629 [==============================] - 689s 262ms/step - loss: 0.0509 - accuracy: 0.9830 - val_loss: 0.0567 - val_accuracy: 0.9824\n"
          ]
        }
      ]
    },
    {
      "cell_type": "code",
      "source": [
        "m.save('/content/drive/MyDrive/efficientnet_v2.h5')"
      ],
      "metadata": {
        "id": "ALUwRbRTJSm7"
      },
      "execution_count": null,
      "outputs": []
    },
    {
      "cell_type": "code",
      "source": [
        "plt.figure(figsize=[6,4])\n",
        "plt.plot(history.history['loss'], 'black', linewidth=2.0)\n",
        "plt.plot(history.history['val_loss'], 'green', linewidth=2.0)\n",
        "plt.legend(['Training Loss', 'Validation Loss'], fontsize=14)\n",
        "plt.xlabel('Epochs', fontsize=10)\n",
        "plt.ylabel('Loss', fontsize=10)\n",
        "plt.title('Loss Curves', fontsize=12)"
      ],
      "metadata": {
        "colab": {
          "base_uri": "https://localhost:8080/",
          "height": 312
        },
        "id": "w7s6DIH_IITn",
        "outputId": "ea387ba6-8be7-4012-c16a-9f98d20b8187"
      },
      "execution_count": null,
      "outputs": [
        {
          "output_type": "execute_result",
          "data": {
            "text/plain": [
              "Text(0.5, 1.0, 'Loss Curves')"
            ]
          },
          "metadata": {},
          "execution_count": 41
        },
        {
          "output_type": "display_data",
          "data": {
            "text/plain": [
              "<Figure size 432x288 with 1 Axes>"
            ],
            "image/png": "[encoded data removed]"
          },
          "metadata": {
            "needs_background": "light"
          }
        }
      ]
    },
    {
      "cell_type": "code",
      "source": [
        "plt.figure(figsize=[6,4])\n",
        "plt.plot(history.history['accuracy'], 'black', linewidth=2.0)\n",
        "plt.plot(history.history['val_accuracy'], 'green', linewidth=2.0)\n",
        "plt.legend(['Training accuracy', 'Validation accuracy'], fontsize=14)\n",
        "plt.xlabel('Epochs', fontsize=10)\n",
        "plt.ylabel('Loss', fontsize=10)\n",
        "plt.title('Loss Curves', fontsize=12)"
      ],
      "metadata": {
        "colab": {
          "base_uri": "https://localhost:8080/",
          "height": 312
        },
        "id": "hW-60SwqIQJv",
        "outputId": "b57e7a20-a360-4d85-f15c-43d60567e3e3"
      },
      "execution_count": null,
      "outputs": [
        {
          "output_type": "execute_result",
          "data": {
            "text/plain": [
              "Text(0.5, 1.0, 'Loss Curves')"
            ]
          },
          "metadata": {},
          "execution_count": 42
        },
        {
          "output_type": "display_data",
          "data": {
            "text/plain": [
              "<Figure size 432x288 with 1 Axes>"
            ],
            "image/png": "[encoded data removed]"
          },
          "metadata": {
            "needs_background": "light"
          }
        }
      ]
    },
    {
      "cell_type": "code",
      "source": [
        "from tensorflow import keras\n",
        "m = keras.models.load_model('/content/drive/MyDrive/efficientnet_v2.h5',custom_objects={'KerasLayer':hub.KerasLayer})"
      ],
      "metadata": {
        "id": "uzL_GOrcohWe"
      },
      "execution_count": null,
      "outputs": []
    },
    {
      "cell_type": "code",
      "source": [
        "test_steps_per_epoch = np.math.ceil(test_generator.samples / test_generator.batch_size)\n",
        "\n",
        "predictions = m.predict_generator(test_generator, steps=test_steps_per_epoch)\n",
        "# Get most likely class\n",
        "predicted_classes = np.argmax(predictions, axis=1)\n",
        "true_classes = test_generator.classes\n",
        "class_labels = list(test_generator.class_indices.keys()) "
      ],
      "metadata": {
        "colab": {
          "base_uri": "https://localhost:8080/"
        },
        "id": "CLPOq61apSFK",
        "outputId": "8895b530-f64a-4c7f-e07a-8dd859c50b52"
      },
      "execution_count": null,
      "outputs": [
        {
          "output_type": "stream",
          "name": "stderr",
          "text": [
            "/usr/local/lib/python3.7/dist-packages/ipykernel_launcher.py:3: UserWarning: `Model.predict_generator` is deprecated and will be removed in a future version. Please use `Model.predict`, which supports generators.\n",
            "  This is separate from the ipykernel package so we can avoid doing imports until\n"
          ]
        }
      ]
    },
    {
      "cell_type": "code",
      "source": [
        "from sklearn import metrics\n",
        "report = metrics.classification_report(true_classes, predicted_classes, target_names=class_labels)\n",
        "print(report)"
      ],
      "metadata": {
        "colab": {
          "base_uri": "https://localhost:8080/"
        },
        "id": "XpxjmFcdqLaH",
        "outputId": "97579aef-338a-468c-8b68-5a16f7fe580f"
      },
      "execution_count": null,
      "outputs": [
        {
          "output_type": "stream",
          "name": "stdout",
          "text": [
            "              precision    recall  f1-score   support\n",
            "\n",
            "           A       1.00      0.89      0.94       100\n",
            "           B       1.00      1.00      1.00       100\n",
            "           C       0.98      1.00      0.99       100\n",
            "           D       1.00      0.98      0.99       100\n",
            "           E       0.90      0.99      0.94       100\n",
            "           F       1.00      0.99      0.99       100\n",
            "           G       1.00      0.99      0.99       100\n",
            "           H       1.00      1.00      1.00       100\n",
            "           I       0.99      0.99      0.99       100\n",
            "           J       1.00      1.00      1.00       100\n",
            "           K       1.00      0.99      0.99       100\n",
            "           L       1.00      1.00      1.00       100\n",
            "           M       0.92      0.98      0.95       100\n",
            "           N       0.98      0.94      0.96       100\n",
            "           O       0.97      0.99      0.98       100\n",
            "           P       1.00      1.00      1.00       100\n",
            "           Q       1.00      1.00      1.00       100\n",
            "           R       0.99      0.95      0.97       100\n",
            "           S       0.94      0.97      0.96       100\n",
            "           T       0.94      1.00      0.97       100\n",
            "           U       0.97      0.97      0.97       100\n",
            "           V       0.98      0.99      0.99       100\n",
            "           W       1.00      0.98      0.99       100\n",
            "           X       0.97      0.95      0.96       100\n",
            "           Y       0.97      0.97      0.97       100\n",
            "           Z       1.00      0.98      0.99       100\n",
            "         del       1.00      1.00      1.00       100\n",
            "     nothing       1.00      1.00      1.00       100\n",
            "       space       1.00      1.00      1.00       100\n",
            "\n",
            "    accuracy                           0.98      2900\n",
            "   macro avg       0.98      0.98      0.98      2900\n",
            "weighted avg       0.98      0.98      0.98      2900\n",
            "\n"
          ]
        }
      ]
    },
    {
      "cell_type": "code",
      "source": [
        "from sklearn.metrics import multilabel_confusion_matrix\n",
        "import seaborn as sn\n",
        "mcm = multilabel_confusion_matrix(true_classes, predicted_classes)\n",
        "print(mcm)"
      ],
      "metadata": {
        "colab": {
          "base_uri": "https://localhost:8080/"
        },
        "id": "hH970nuWqhMa",
        "outputId": "6b37253d-df72-4ae6-b39e-abed4c0c02e0"
      },
      "execution_count": null,
      "outputs": [
        {
          "output_type": "stream",
          "name": "stdout",
          "text": [
            "[[[2800    0]\n",
            "  [  11   89]]\n",
            "\n",
            " [[2800    0]\n",
            "  [   0  100]]\n",
            "\n",
            " [[2798    2]\n",
            "  [   0  100]]\n",
            "\n",
            " [[2800    0]\n",
            "  [   2   98]]\n",
            "\n",
            " [[2789   11]\n",
            "  [   1   99]]\n",
            "\n",
            " [[2800    0]\n",
            "  [   1   99]]\n",
            "\n",
            " [[2800    0]\n",
            "  [   1   99]]\n",
            "\n",
            " [[2800    0]\n",
            "  [   0  100]]\n",
            "\n",
            " [[2799    1]\n",
            "  [   1   99]]\n",
            "\n",
            " [[2800    0]\n",
            "  [   0  100]]\n",
            "\n",
            " [[2800    0]\n",
            "  [   1   99]]\n",
            "\n",
            " [[2800    0]\n",
            "  [   0  100]]\n",
            "\n",
            " [[2792    8]\n",
            "  [   2   98]]\n",
            "\n",
            " [[2798    2]\n",
            "  [   6   94]]\n",
            "\n",
            " [[2797    3]\n",
            "  [   1   99]]\n",
            "\n",
            " [[2800    0]\n",
            "  [   0  100]]\n",
            "\n",
            " [[2800    0]\n",
            "  [   0  100]]\n",
            "\n",
            " [[2799    1]\n",
            "  [   5   95]]\n",
            "\n",
            " [[2794    6]\n",
            "  [   3   97]]\n",
            "\n",
            " [[2794    6]\n",
            "  [   0  100]]\n",
            "\n",
            " [[2797    3]\n",
            "  [   3   97]]\n",
            "\n",
            " [[2798    2]\n",
            "  [   1   99]]\n",
            "\n",
            " [[2800    0]\n",
            "  [   2   98]]\n",
            "\n",
            " [[2797    3]\n",
            "  [   5   95]]\n",
            "\n",
            " [[2797    3]\n",
            "  [   3   97]]\n",
            "\n",
            " [[2800    0]\n",
            "  [   2   98]]\n",
            "\n",
            " [[2800    0]\n",
            "  [   0  100]]\n",
            "\n",
            " [[2800    0]\n",
            "  [   0  100]]\n",
            "\n",
            " [[2800    0]\n",
            "  [   0  100]]]\n"
          ]
        }
      ]
    },
    {
      "cell_type": "code",
      "source": [
        "m = tf.keras.Sequential(\n",
        "    [hub.KerasLayer(\"https://tfhub.dev/google/imagenet/efficientnet_v2_imagenet1k_b2/classification/2\",trainable = True),\n",
        "     tf.keras.layers.Dense(len(class_labels), activation='softmax')])\n",
        "m.build([None, 200, 200, 3])"
      ],
      "metadata": {
        "id": "UDWFMLHlrpXq"
      },
      "execution_count": null,
      "outputs": []
    },
    {
      "cell_type": "code",
      "source": [
        "es = EarlyStopping(monitor='val_loss', mode='min', verbose=1, patience=10)\n",
        "m.compile(optimizer='adam', loss=tf.keras.losses.categorical_crossentropy, metrics=['accuracy'])\n",
        "history = m.fit(train_generator, epochs=10, verbose=1, validation_data = test_generator,callbacks=[es,mcp])\n"
      ],
      "metadata": {
        "id": "Uthr4NyLrvld"
      },
      "execution_count": null,
      "outputs": []
    },
    {
      "cell_type": "markdown",
      "source": [
        "##My FINDINGS"
      ],
      "metadata": {
        "id": "2RLiBL7U2xTr"
      }
    },
    {
      "cell_type": "markdown",
      "source": [
        "1) Pretrained models are much more accurate than custom models.\n",
        "\n",
        "2) Accuracy:\n",
        "  \n",
        "  Custom = 94.54 % for 10 epochs\n",
        "\n",
        "  Pretrained (Trainable = False) = 98.30 % for 10 epochs\n",
        "\n",
        "  Pretrained (Trainable = True) = Not able to perform this due to limit reachability of colab.\n",
        "\n",
        "3) When used trainable = True the time consumption was more as the ETA for 1 epoch was around 13min while in trainable = False it was around 11min per epoch.\n",
        "\n",
        "4) High precision and recall indicates that our model will likely to produce correct predictions and is ready to use."
      ],
      "metadata": {
        "id": "4fJpvJZn21vW"
      }
    }
  ]
}